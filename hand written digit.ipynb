{
  "nbformat": 4,
  "nbformat_minor": 0,
  "metadata": {
    "colab": {
      "provenance": [],
      "authorship_tag": "ABX9TyN7tN2FTbs+oOhuazLolI4/",
      "include_colab_link": true
    },
    "kernelspec": {
      "name": "python3",
      "display_name": "Python 3"
    },
    "language_info": {
      "name": "python"
    }
  },
  "cells": [
    {
      "cell_type": "markdown",
      "metadata": {
        "id": "view-in-github",
        "colab_type": "text"
      },
      "source": [
        "<a href=\"https://colab.research.google.com/github/shivamani36/shivamani36/blob/main/hand%20written%20digit.ipynb\" target=\"_parent\"><img src=\"https://colab.research.google.com/assets/colab-badge.svg\" alt=\"Open In Colab\"/></a>"
      ]
    },
    {
      "cell_type": "markdown",
      "source": [
        "### HAND WRITTEN DIGIT PREDDICTION - CLASSIFCATION ANALYSIS"
      ],
      "metadata": {
        "id": "hcTqYY9SXlWU"
      }
    },
    {
      "cell_type": "markdown",
      "source": [
        "OBJECTIVE :-\n",
        "\n",
        "This digit dataset is made up of 1797 8x8 images. Each image, like the one shown below, is of a hand-written digit. In order to utilize an 8x8 figure like this, we could have to first transform it into a feature vector with length 64.\n",
        "The images attribute of the datasheet\n",
        "Stores 18 to 8 arrays. of recycle values for each image. We will use these arrays to visualize the First, 4 images target. attribute of the data sheet stores the digit image represent"
      ],
      "metadata": {
        "id": "uqiWniUwYstw"
      }
    },
    {
      "cell_type": "markdown",
      "source": [
        "# import library"
      ],
      "metadata": {
        "id": "Lmva9kmacG_d"
      }
    },
    {
      "cell_type": "code",
      "source": [
        "import pandas as pd"
      ],
      "metadata": {
        "id": "kk36CJTvcdPZ"
      },
      "execution_count": 32,
      "outputs": []
    },
    {
      "cell_type": "code",
      "source": [
        "import numpy as np"
      ],
      "metadata": {
        "id": "DimJmlcIdIJI"
      },
      "execution_count": 33,
      "outputs": []
    },
    {
      "cell_type": "code",
      "source": [
        "import matplotlib.pyplot as plt"
      ],
      "metadata": {
        "id": "WmyG4CFJdIOQ"
      },
      "execution_count": 34,
      "outputs": []
    },
    {
      "cell_type": "markdown",
      "source": [
        "# IMPORT DATA"
      ],
      "metadata": {
        "id": "F6qdKXQYdeAS"
      }
    },
    {
      "cell_type": "code",
      "source": [
        "from sklearn.datasets import load_digits"
      ],
      "metadata": {
        "id": "U1cl96tndh5B"
      },
      "execution_count": 35,
      "outputs": []
    },
    {
      "cell_type": "code",
      "source": [
        "sm = load_digits()"
      ],
      "metadata": {
        "id": "THg0drq4d1Sr"
      },
      "execution_count": 36,
      "outputs": []
    },
    {
      "cell_type": "code",
      "source": [
        "_,axes = plt.subplots(nrows=1, ncols=4, figsize=(12,4))\n",
        "for ax,image,label in zip(axes,sm.images ,sm.target):\n",
        "    ax.set_axis_off()\n",
        "    ax.imshow(image ,cmap=plt.cm.gray_r,interpolation=\"nearest\")\n",
        "    ax.set_title(\"Training :%i\" %label)\n"
      ],
      "metadata": {
        "colab": {
          "base_uri": "https://localhost:8080/",
          "height": 205
        },
        "id": "SsAW44g6d_1O",
        "outputId": "56fdca55-b2f9-4f6a-d47c-92c3ade08ce9"
      },
      "execution_count": 37,
      "outputs": [
        {
          "output_type": "display_data",
          "data": {
            "text/plain": [
              "<Figure size 1200x400 with 4 Axes>"
            ],
            "image/png": "[encoded data removed]"
          },
          "metadata": {}
        }
      ]
    },
    {
      "cell_type": "code",
      "source": [
        "sm.images.shape"
      ],
      "metadata": {
        "colab": {
          "base_uri": "https://localhost:8080/"
        },
        "id": "hZ72w50WgM-U",
        "outputId": "8a732277-c9cc-4cbc-ad45-2e281fc493d6"
      },
      "execution_count": 38,
      "outputs": [
        {
          "output_type": "execute_result",
          "data": {
            "text/plain": [
              "(1797, 8, 8)"
            ]
          },
          "metadata": {},
          "execution_count": 38
        }
      ]
    },
    {
      "cell_type": "code",
      "source": [
        "sm.images[0]"
      ],
      "metadata": {
        "colab": {
          "base_uri": "https://localhost:8080/"
        },
        "id": "uX_kMmJYgYUI",
        "outputId": "9c5f9b6a-8b6c-4864-be1c-32156548e78c"
      },
      "execution_count": 39,
      "outputs": [
        {
          "output_type": "execute_result",
          "data": {
            "text/plain": [
              "array([[ 0.,  0.,  5., 13.,  9.,  1.,  0.,  0.],\n",
              "       [ 0.,  0., 13., 15., 10., 15.,  5.,  0.],\n",
              "       [ 0.,  3., 15.,  2.,  0., 11.,  8.,  0.],\n",
              "       [ 0.,  4., 12.,  0.,  0.,  8.,  8.,  0.],\n",
              "       [ 0.,  5.,  8.,  0.,  0.,  9.,  8.,  0.],\n",
              "       [ 0.,  4., 11.,  0.,  1., 12.,  7.,  0.],\n",
              "       [ 0.,  2., 14.,  5., 10., 12.,  0.,  0.],\n",
              "       [ 0.,  0.,  6., 13., 10.,  0.,  0.,  0.]])"
            ]
          },
          "metadata": {},
          "execution_count": 39
        }
      ]
    },
    {
      "cell_type": "code",
      "source": [
        "sm.images[0].shape"
      ],
      "metadata": {
        "colab": {
          "base_uri": "https://localhost:8080/"
        },
        "id": "5Ew3Adn-giNs",
        "outputId": "a7b3b1d7-27bc-495f-e8b1-4a32ca52df2f"
      },
      "execution_count": 40,
      "outputs": [
        {
          "output_type": "execute_result",
          "data": {
            "text/plain": [
              "(8, 8)"
            ]
          },
          "metadata": {},
          "execution_count": 40
        }
      ]
    },
    {
      "cell_type": "code",
      "source": [
        "len(sm.images)"
      ],
      "metadata": {
        "colab": {
          "base_uri": "https://localhost:8080/"
        },
        "id": "_xpy4iFiguub",
        "outputId": "ed70e771-fffd-4cf5-91a4-ccbe571aeccb"
      },
      "execution_count": 41,
      "outputs": [
        {
          "output_type": "execute_result",
          "data": {
            "text/plain": [
              "1797"
            ]
          },
          "metadata": {},
          "execution_count": 41
        }
      ]
    },
    {
      "cell_type": "code",
      "source": [
        "n_samples = len(sm.images)\n",
        "data = sm.images.reshape((n_samples,-1))"
      ],
      "metadata": {
        "id": "hAKyxh4khlNs"
      },
      "execution_count": 42,
      "outputs": []
    },
    {
      "cell_type": "code",
      "source": [
        "data[0]"
      ],
      "metadata": {
        "colab": {
          "base_uri": "https://localhost:8080/"
        },
        "id": "XJKcL8xkh2I1",
        "outputId": "c038e759-b963-4676-8b23-4f5fcb58ba6d"
      },
      "execution_count": 43,
      "outputs": [
        {
          "output_type": "execute_result",
          "data": {
            "text/plain": [
              "array([ 0.,  0.,  5., 13.,  9.,  1.,  0.,  0.,  0.,  0., 13., 15., 10.,\n",
              "       15.,  5.,  0.,  0.,  3., 15.,  2.,  0., 11.,  8.,  0.,  0.,  4.,\n",
              "       12.,  0.,  0.,  8.,  8.,  0.,  0.,  5.,  8.,  0.,  0.,  9.,  8.,\n",
              "        0.,  0.,  4., 11.,  0.,  1., 12.,  7.,  0.,  0.,  2., 14.,  5.,\n",
              "       10., 12.,  0.,  0.,  0.,  0.,  6., 13., 10.,  0.,  0.,  0.])"
            ]
          },
          "metadata": {},
          "execution_count": 43
        }
      ]
    },
    {
      "cell_type": "code",
      "source": [
        "data[0].shape"
      ],
      "metadata": {
        "colab": {
          "base_uri": "https://localhost:8080/"
        },
        "id": "ChovuQ3ah446",
        "outputId": "76ce376f-7295-4699-d6ac-d46a7e6c3fa3"
      },
      "execution_count": 44,
      "outputs": [
        {
          "output_type": "execute_result",
          "data": {
            "text/plain": [
              "(64,)"
            ]
          },
          "metadata": {},
          "execution_count": 44
        }
      ]
    },
    {
      "cell_type": "markdown",
      "source": [
        "## Scailing Image data"
      ],
      "metadata": {
        "id": "RV7ca2DUh_yr"
      }
    },
    {
      "cell_type": "code",
      "source": [
        "data.min()"
      ],
      "metadata": {
        "colab": {
          "base_uri": "https://localhost:8080/"
        },
        "id": "SahA0W6riFYu",
        "outputId": "d2e444d0-2eb9-405e-b43d-daf8d83c55ae"
      },
      "execution_count": 45,
      "outputs": [
        {
          "output_type": "execute_result",
          "data": {
            "text/plain": [
              "0.0"
            ]
          },
          "metadata": {},
          "execution_count": 45
        }
      ]
    },
    {
      "cell_type": "code",
      "source": [
        "data.max()"
      ],
      "metadata": {
        "colab": {
          "base_uri": "https://localhost:8080/"
        },
        "id": "6VBLpkM8iKTa",
        "outputId": "471e369a-0961-4418-d526-5a083858edfb"
      },
      "execution_count": 46,
      "outputs": [
        {
          "output_type": "execute_result",
          "data": {
            "text/plain": [
              "16.0"
            ]
          },
          "metadata": {},
          "execution_count": 46
        }
      ]
    },
    {
      "cell_type": "code",
      "source": [
        "data=data/16"
      ],
      "metadata": {
        "id": "Lf-ZXxw-iNE2"
      },
      "execution_count": 47,
      "outputs": []
    },
    {
      "cell_type": "code",
      "source": [
        "data.min()"
      ],
      "metadata": {
        "colab": {
          "base_uri": "https://localhost:8080/"
        },
        "id": "jREgXl_giR_a",
        "outputId": "f353323d-8b40-49b0-e47f-d8f340fba930"
      },
      "execution_count": 48,
      "outputs": [
        {
          "output_type": "execute_result",
          "data": {
            "text/plain": [
              "0.0"
            ]
          },
          "metadata": {},
          "execution_count": 48
        }
      ]
    },
    {
      "cell_type": "code",
      "source": [
        "data.max()"
      ],
      "metadata": {
        "colab": {
          "base_uri": "https://localhost:8080/"
        },
        "id": "EiMhbczciVVK",
        "outputId": "07b96b54-6654-4432-fe61-513f348e56ec"
      },
      "execution_count": 49,
      "outputs": [
        {
          "output_type": "execute_result",
          "data": {
            "text/plain": [
              "1.0"
            ]
          },
          "metadata": {},
          "execution_count": 49
        }
      ]
    },
    {
      "cell_type": "code",
      "source": [
        "data[0]"
      ],
      "metadata": {
        "colab": {
          "base_uri": "https://localhost:8080/"
        },
        "id": "I05BfxRaiYrN",
        "outputId": "98759a19-6e58-461a-c005-1967936e94f6"
      },
      "execution_count": 50,
      "outputs": [
        {
          "output_type": "execute_result",
          "data": {
            "text/plain": [
              "array([0.    , 0.    , 0.3125, 0.8125, 0.5625, 0.0625, 0.    , 0.    ,\n",
              "       0.    , 0.    , 0.8125, 0.9375, 0.625 , 0.9375, 0.3125, 0.    ,\n",
              "       0.    , 0.1875, 0.9375, 0.125 , 0.    , 0.6875, 0.5   , 0.    ,\n",
              "       0.    , 0.25  , 0.75  , 0.    , 0.    , 0.5   , 0.5   , 0.    ,\n",
              "       0.    , 0.3125, 0.5   , 0.    , 0.    , 0.5625, 0.5   , 0.    ,\n",
              "       0.    , 0.25  , 0.6875, 0.    , 0.0625, 0.75  , 0.4375, 0.    ,\n",
              "       0.    , 0.125 , 0.875 , 0.3125, 0.625 , 0.75  , 0.    , 0.    ,\n",
              "       0.    , 0.    , 0.375 , 0.8125, 0.625 , 0.    , 0.    , 0.    ])"
            ]
          },
          "metadata": {},
          "execution_count": 50
        }
      ]
    },
    {
      "cell_type": "markdown",
      "source": [
        "# Train Test Split Data"
      ],
      "metadata": {
        "id": "tB9qY0y2idtn"
      }
    },
    {
      "cell_type": "code",
      "source": [
        "from sklearn.model_selection import train_test_split"
      ],
      "metadata": {
        "id": "XRTxv788ijf4"
      },
      "execution_count": 51,
      "outputs": []
    },
    {
      "cell_type": "code",
      "source": [
        "x_train,x_test,y_train,y_test = train_test_split(data, sm.target,test_size=0.3)"
      ],
      "metadata": {
        "id": "KwqJvt0Ri2MF"
      },
      "execution_count": 55,
      "outputs": []
    },
    {
      "cell_type": "code",
      "source": [
        "x_train.shape,x_test.shape,y_train.shape,y_test.shape"
      ],
      "metadata": {
        "colab": {
          "base_uri": "https://localhost:8080/"
        },
        "id": "ehVm6UqkjK09",
        "outputId": "2dc0e84a-558a-4bb3-f1ee-ef1e4fd2a554"
      },
      "execution_count": 57,
      "outputs": [
        {
          "output_type": "execute_result",
          "data": {
            "text/plain": [
              "((1257, 64), (540, 64), (1257,), (540,))"
            ]
          },
          "metadata": {},
          "execution_count": 57
        }
      ]
    },
    {
      "cell_type": "markdown",
      "source": [
        "# Random Forest Model"
      ],
      "metadata": {
        "id": "2S1XxZoOjnvi"
      }
    },
    {
      "cell_type": "code",
      "source": [
        "from sklearn.ensemble import RandomForestClassifier"
      ],
      "metadata": {
        "id": "3St0J-qRjtH6"
      },
      "execution_count": 58,
      "outputs": []
    },
    {
      "cell_type": "code",
      "source": [
        "rf=RandomForestClassifier()"
      ],
      "metadata": {
        "id": "-dssrbUrj1rP"
      },
      "execution_count": 59,
      "outputs": []
    },
    {
      "cell_type": "code",
      "source": [
        "rf.fit(x_train,y_train)"
      ],
      "metadata": {
        "colab": {
          "base_uri": "https://localhost:8080/",
          "height": 74
        },
        "id": "02dja_i0j6NC",
        "outputId": "7817a561-ffa0-49b0-d51f-db9ef38215f5"
      },
      "execution_count": 61,
      "outputs": [
        {
          "output_type": "execute_result",
          "data": {
            "text/plain": [
              "RandomForestClassifier()"
            ],
            "text/html": [
              "<style>#sk-container-id-1 {color: black;background-color: white;}#sk-container-id-1 pre{padding: 0;}#sk-container-id-1 div.sk-toggleable {background-color: white;}#sk-container-id-1 label.sk-toggleable__label {cursor: pointer;display: block;width: 100%;margin-bottom: 0;padding: 0.3em;box-sizing: border-box;text-align: center;}#sk-container-id-1 label.sk-toggleable__label-arrow:before {content: \"▸\";float: left;margin-right: 0.25em;color: #696969;}#sk-container-id-1 label.sk-toggleable__label-arrow:hover:before {color: black;}#sk-container-id-1 div.sk-estimator:hover label.sk-toggleable__label-arrow:before {color: black;}#sk-container-id-1 div.sk-toggleable__content {max-height: 0;max-width: 0;overflow: hidden;text-align: left;background-color: #f0f8ff;}#sk-container-id-1 div.sk-toggleable__content pre {margin: 0.2em;color: black;border-radius: 0.25em;background-color: #f0f8ff;}#sk-container-id-1 input.sk-toggleable__control:checked~div.sk-toggleable__content {max-height: 200px;max-width: 100%;overflow: auto;}#sk-container-id-1 input.sk-toggleable__control:checked~label.sk-toggleable__label-arrow:before {content: \"▾\";}#sk-container-id-1 div.sk-estimator input.sk-toggleable__control:checked~label.sk-toggleable__label {background-color: #d4ebff;}#sk-container-id-1 div.sk-label input.sk-toggleable__control:checked~label.sk-toggleable__label {background-color: #d4ebff;}#sk-container-id-1 input.sk-hidden--visually {border: 0;clip: rect(1px 1px 1px 1px);clip: rect(1px, 1px, 1px, 1px);height: 1px;margin: -1px;overflow: hidden;padding: 0;position: absolute;width: 1px;}#sk-container-id-1 div.sk-estimator {font-family: monospace;background-color: #f0f8ff;border: 1px dotted black;border-radius: 0.25em;box-sizing: border-box;margin-bottom: 0.5em;}#sk-container-id-1 div.sk-estimator:hover {background-color: #d4ebff;}#sk-container-id-1 div.sk-parallel-item::after {content: \"\";width: 100%;border-bottom: 1px solid gray;flex-grow: 1;}#sk-container-id-1 div.sk-label:hover label.sk-toggleable__label {background-color: #d4ebff;}#sk-container-id-1 div.sk-serial::before {content: \"\";position: absolute;border-left: 1px solid gray;box-sizing: border-box;top: 0;bottom: 0;left: 50%;z-index: 0;}#sk-container-id-1 div.sk-serial {display: flex;flex-direction: column;align-items: center;background-color: white;padding-right: 0.2em;padding-left: 0.2em;position: relative;}#sk-container-id-1 div.sk-item {position: relative;z-index: 1;}#sk-container-id-1 div.sk-parallel {display: flex;align-items: stretch;justify-content: center;background-color: white;position: relative;}#sk-container-id-1 div.sk-item::before, #sk-container-id-1 div.sk-parallel-item::before {content: \"\";position: absolute;border-left: 1px solid gray;box-sizing: border-box;top: 0;bottom: 0;left: 50%;z-index: -1;}#sk-container-id-1 div.sk-parallel-item {display: flex;flex-direction: column;z-index: 1;position: relative;background-color: white;}#sk-container-id-1 div.sk-parallel-item:first-child::after {align-self: flex-end;width: 50%;}#sk-container-id-1 div.sk-parallel-item:last-child::after {align-self: flex-start;width: 50%;}#sk-container-id-1 div.sk-parallel-item:only-child::after {width: 0;}#sk-container-id-1 div.sk-dashed-wrapped {border: 1px dashed gray;margin: 0 0.4em 0.5em 0.4em;box-sizing: border-box;padding-bottom: 0.4em;background-color: white;}#sk-container-id-1 div.sk-label label {font-family: monospace;font-weight: bold;display: inline-block;line-height: 1.2em;}#sk-container-id-1 div.sk-label-container {text-align: center;}#sk-container-id-1 div.sk-container {/* jupyter's `normalize.less` sets `[hidden] { display: none; }` but bootstrap.min.css set `[hidden] { display: none !important; }` so we also need the `!important` here to be able to override the default hidden behavior on the sphinx rendered scikit-learn.org. See: https://github.com/scikit-learn/scikit-learn/issues/21755 */display: inline-block !important;position: relative;}#sk-container-id-1 div.sk-text-repr-fallback {display: none;}</style><div id=\"sk-container-id-1\" class=\"sk-top-container\"><div class=\"sk-text-repr-fallback\"><pre>RandomForestClassifier()</pre><b>In a Jupyter environment, please rerun this cell to show the HTML representation or trust the notebook. <br />On GitHub, the HTML representation is unable to render, please try loading this page with nbviewer.org.</b></div><div class=\"sk-container\" hidden><div class=\"sk-item\"><div class=\"sk-estimator sk-toggleable\"><input class=\"sk-toggleable__control sk-hidden--visually\" id=\"sk-estimator-id-1\" type=\"checkbox\" checked><label for=\"sk-estimator-id-1\" class=\"sk-toggleable__label sk-toggleable__label-arrow\">RandomForestClassifier</label><div class=\"sk-toggleable__content\"><pre>RandomForestClassifier()</pre></div></div></div></div></div>"
            ]
          },
          "metadata": {},
          "execution_count": 61
        }
      ]
    },
    {
      "cell_type": "markdown",
      "source": [
        "# Predict Test Data"
      ],
      "metadata": {
        "id": "Sgro6Rs_kJjQ"
      }
    },
    {
      "cell_type": "code",
      "source": [
        "y_pred = rf.predict(x_test)"
      ],
      "metadata": {
        "id": "yV6hWxzYkPZm"
      },
      "execution_count": 62,
      "outputs": []
    },
    {
      "cell_type": "code",
      "source": [
        "y_pred"
      ],
      "metadata": {
        "colab": {
          "base_uri": "https://localhost:8080/"
        },
        "id": "fD1YTuxUkeF8",
        "outputId": "434ecc6a-0d48-4926-e285-f67cf62f7eb2"
      },
      "execution_count": 65,
      "outputs": [
        {
          "output_type": "execute_result",
          "data": {
            "text/plain": [
              "array([7, 7, 4, 3, 3, 8, 4, 0, 0, 0, 5, 1, 6, 4, 5, 5, 2, 2, 6, 6, 8, 8,\n",
              "       9, 7, 1, 1, 9, 4, 1, 6, 9, 3, 1, 6, 7, 6, 6, 3, 3, 3, 4, 9, 5, 8,\n",
              "       4, 7, 3, 1, 3, 6, 1, 7, 4, 2, 1, 5, 4, 7, 1, 0, 4, 7, 2, 1, 8, 3,\n",
              "       5, 1, 6, 2, 9, 2, 4, 6, 3, 3, 9, 8, 2, 0, 0, 9, 2, 7, 9, 1, 8, 0,\n",
              "       2, 3, 6, 0, 7, 2, 2, 4, 4, 7, 6, 6, 7, 0, 2, 6, 5, 5, 7, 2, 7, 1,\n",
              "       7, 7, 0, 8, 3, 6, 4, 3, 3, 3, 7, 7, 3, 8, 5, 6, 9, 1, 1, 4, 1, 8,\n",
              "       2, 1, 5, 2, 0, 9, 2, 9, 8, 5, 6, 0, 1, 6, 1, 9, 5, 8, 2, 1, 1, 0,\n",
              "       4, 1, 2, 6, 1, 2, 5, 3, 0, 5, 9, 8, 5, 9, 6, 5, 8, 4, 0, 1, 9, 7,\n",
              "       9, 2, 2, 7, 3, 7, 9, 2, 0, 6, 7, 0, 9, 1, 3, 4, 9, 7, 0, 6, 1, 5,\n",
              "       0, 2, 8, 0, 1, 9, 1, 0, 1, 9, 7, 1, 7, 6, 6, 3, 8, 6, 6, 6, 8, 5,\n",
              "       3, 0, 8, 3, 2, 6, 8, 6, 8, 7, 7, 0, 7, 4, 3, 6, 4, 4, 2, 7, 2, 9,\n",
              "       5, 2, 9, 3, 5, 1, 0, 0, 2, 5, 3, 9, 3, 1, 2, 8, 6, 1, 7, 3, 0, 9,\n",
              "       0, 4, 3, 0, 9, 3, 2, 2, 7, 9, 7, 8, 1, 9, 2, 2, 8, 0, 0, 8, 4, 2,\n",
              "       1, 3, 4, 1, 1, 4, 1, 2, 1, 1, 1, 0, 2, 8, 5, 6, 3, 3, 8, 9, 0, 2,\n",
              "       0, 2, 9, 4, 1, 8, 2, 9, 3, 8, 0, 1, 5, 1, 1, 5, 4, 0, 2, 9, 5, 0,\n",
              "       6, 7, 3, 3, 9, 5, 6, 4, 4, 2, 9, 1, 3, 1, 9, 3, 5, 4, 6, 7, 2, 5,\n",
              "       9, 8, 0, 4, 5, 4, 7, 9, 7, 2, 6, 5, 7, 9, 1, 6, 7, 2, 0, 3, 2, 6,\n",
              "       8, 6, 1, 7, 7, 5, 2, 7, 9, 4, 7, 6, 7, 2, 9, 5, 8, 0, 8, 0, 9, 4,\n",
              "       1, 8, 9, 5, 3, 0, 0, 0, 0, 1, 9, 2, 3, 1, 7, 4, 1, 5, 4, 3, 5, 9,\n",
              "       3, 0, 2, 1, 5, 9, 3, 7, 3, 8, 2, 0, 9, 2, 1, 4, 3, 3, 7, 6, 5, 3,\n",
              "       5, 2, 7, 9, 6, 6, 3, 2, 3, 3, 5, 9, 2, 7, 5, 8, 6, 7, 5, 2, 8, 0,\n",
              "       5, 3, 0, 6, 0, 6, 4, 2, 7, 2, 3, 1, 8, 6, 9, 6, 3, 9, 0, 8, 2, 6,\n",
              "       4, 9, 9, 0, 0, 0, 1, 9, 4, 4, 1, 0, 8, 4, 3, 2, 1, 2, 3, 0, 2, 5,\n",
              "       7, 5, 4, 3, 3, 2, 7, 8, 8, 7, 8, 8, 6, 3, 0, 9, 9, 8, 2, 7, 7, 1,\n",
              "       5, 0, 1, 5, 7, 6, 7, 6, 0, 9, 2, 7])"
            ]
          },
          "metadata": {},
          "execution_count": 65
        }
      ]
    },
    {
      "cell_type": "markdown",
      "source": [
        "# Model Accuracy\n"
      ],
      "metadata": {
        "id": "bKJAGeJbklXn"
      }
    },
    {
      "cell_type": "code",
      "source": [
        "from sklearn.metrics import confusion_matrix , classification_report"
      ],
      "metadata": {
        "id": "wgd96UdqkqIr"
      },
      "execution_count": 68,
      "outputs": []
    },
    {
      "cell_type": "code",
      "source": [
        "confusion_matrix(y_test , y_pred)"
      ],
      "metadata": {
        "colab": {
          "base_uri": "https://localhost:8080/"
        },
        "id": "RHgSctQak3-N",
        "outputId": "a4ac6616-4d4c-493d-d9ca-ba4369d53e85"
      },
      "execution_count": 70,
      "outputs": [
        {
          "output_type": "execute_result",
          "data": {
            "text/plain": [
              "array([[58,  0,  0,  0,  0,  0,  0,  0,  0,  0],\n",
              "       [ 0, 60,  0,  0,  0,  0,  0,  0,  0,  0],\n",
              "       [ 0,  0, 64,  0,  0,  0,  0,  0,  0,  0],\n",
              "       [ 0,  0,  0, 58,  0,  0,  0,  2,  0,  1],\n",
              "       [ 0,  0,  0,  0, 41,  0,  0,  0,  0,  0],\n",
              "       [ 0,  0,  0,  0,  1, 45,  0,  0,  0,  0],\n",
              "       [ 0,  1,  0,  0,  0,  0, 52,  0,  0,  0],\n",
              "       [ 0,  0,  0,  0,  0,  0,  0, 53,  0,  0],\n",
              "       [ 0,  0,  0,  0,  0,  0,  0,  2, 44,  0],\n",
              "       [ 0,  0,  0,  1,  0,  1,  0,  1,  0, 55]])"
            ]
          },
          "metadata": {},
          "execution_count": 70
        }
      ]
    },
    {
      "cell_type": "code",
      "source": [
        "print(classification_report(y_test,y_pred))"
      ],
      "metadata": {
        "colab": {
          "base_uri": "https://localhost:8080/"
        },
        "id": "bKKfjeMWlL0N",
        "outputId": "4da74998-0a85-44d6-b2f7-36810031bbbd"
      },
      "execution_count": 71,
      "outputs": [
        {
          "output_type": "stream",
          "name": "stdout",
          "text": [
            "              precision    recall  f1-score   support\n",
            "\n",
            "           0       1.00      1.00      1.00        58\n",
            "           1       0.98      1.00      0.99        60\n",
            "           2       1.00      1.00      1.00        64\n",
            "           3       0.98      0.95      0.97        61\n",
            "           4       0.98      1.00      0.99        41\n",
            "           5       0.98      0.98      0.98        46\n",
            "           6       1.00      0.98      0.99        53\n",
            "           7       0.91      1.00      0.95        53\n",
            "           8       1.00      0.96      0.98        46\n",
            "           9       0.98      0.95      0.96        58\n",
            "\n",
            "    accuracy                           0.98       540\n",
            "   macro avg       0.98      0.98      0.98       540\n",
            "weighted avg       0.98      0.98      0.98       540\n",
            "\n"
          ]
        }
      ]
    }
  ]
}